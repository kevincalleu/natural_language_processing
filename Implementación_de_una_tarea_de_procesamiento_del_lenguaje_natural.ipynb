{
 "cells": [
  {
   "cell_type": "markdown",
   "metadata": {
    "colab_type": "text",
    "id": "Bc5yC3HFM5GY"
   },
   "source": [
    "Nombres: Kevin Fabricio Calle Urgilez --- Ricardo Manuel Prieto Galarza\n",
    "\n",
    "Materia: Procesamiento de Lenguaje Natural\n"
   ]
  },
  {
   "cell_type": "code",
   "execution_count": 0,
   "metadata": {
    "colab": {
     "base_uri": "https://localhost:8080/",
     "height": 68
    },
    "colab_type": "code",
    "id": "_azuXlab7VpU",
    "outputId": "62821214-c607-45fa-e40f-c1d5ce27120c"
   },
   "outputs": [
    {
     "name": "stdout",
     "output_type": "stream",
     "text": [
      "[nltk_data] Downloading package wordnet to /root/nltk_data...\n",
      "[nltk_data]   Unzipping corpora/wordnet.zip.\n"
     ]
    },
    {
     "data": {
      "text/plain": [
       "True"
      ]
     },
     "execution_count": 1,
     "metadata": {
      "tags": []
     },
     "output_type": "execute_result"
    }
   ],
   "source": [
    "# Se importan las librerías necesarias\n",
    "\n",
    "from nltk.corpus import wordnet as wn\n",
    "import nltk\n",
    "import re\n",
    "from nltk.wsd import lesk\n",
    "from collections import Counter\n",
    "\n",
    "# Se descarga la base de datos léxica wordnet\n",
    "\n",
    "nltk.download('wordnet')"
   ]
  },
  {
   "cell_type": "markdown",
   "metadata": {
    "colab_type": "text",
    "id": "fFjlEdWb7Vpt"
   },
   "source": [
    "## 1. Obtén los diferentes synsets para cada una de las siguientes palabras: mosquito, tsetse, housefly, spider y cockroach."
   ]
  },
  {
   "cell_type": "markdown",
   "metadata": {
    "colab_type": "text",
    "id": "9Mw5jsKA81oK"
   },
   "source": [
    "A continuación se muestran los sentidos de cada palabra dada. La palabra \"spider\" tiene 3 sentidos, mientras que el resto de palabras solo tienen un sentido."
   ]
  },
  {
   "cell_type": "code",
   "execution_count": 0,
   "metadata": {
    "colab": {
     "base_uri": "https://localhost:8080/",
     "height": 34
    },
    "colab_type": "code",
    "id": "xYSkHza37Vpv",
    "outputId": "4fc05a14-cb81-4843-e447-73acc9a3e04f"
   },
   "outputs": [
    {
     "data": {
      "text/plain": [
       "[Synset('mosquito.n.01')]"
      ]
     },
     "execution_count": 2,
     "metadata": {
      "tags": []
     },
     "output_type": "execute_result"
    }
   ],
   "source": [
    "# Se obtiene el sentido de \"mosquito\"\n",
    "\n",
    "wn.synsets('mosquito')"
   ]
  },
  {
   "cell_type": "code",
   "execution_count": 0,
   "metadata": {
    "colab": {
     "base_uri": "https://localhost:8080/",
     "height": 34
    },
    "colab_type": "code",
    "id": "WTz9QOn-7Vp6",
    "outputId": "fd217161-017a-4adb-e12e-e26b7e2f5119"
   },
   "outputs": [
    {
     "data": {
      "text/plain": [
       "[Synset('tsetse_fly.n.01')]"
      ]
     },
     "execution_count": 3,
     "metadata": {
      "tags": []
     },
     "output_type": "execute_result"
    }
   ],
   "source": [
    "# Se obtiene el sentido de \"tsetse\"\n",
    "\n",
    "wn.synsets('tsetse')"
   ]
  },
  {
   "cell_type": "code",
   "execution_count": 0,
   "metadata": {
    "colab": {
     "base_uri": "https://localhost:8080/",
     "height": 34
    },
    "colab_type": "code",
    "id": "aZpnfepQ7VqA",
    "outputId": "c9570cb7-fe3a-4218-b907-329360d80a57"
   },
   "outputs": [
    {
     "data": {
      "text/plain": [
       "[Synset('housefly.n.01')]"
      ]
     },
     "execution_count": 4,
     "metadata": {
      "tags": []
     },
     "output_type": "execute_result"
    }
   ],
   "source": [
    "# Se obtiene el sentido de \"housefly\"\n",
    "\n",
    "wn.synsets('housefly')"
   ]
  },
  {
   "cell_type": "code",
   "execution_count": 0,
   "metadata": {
    "colab": {
     "base_uri": "https://localhost:8080/",
     "height": 34
    },
    "colab_type": "code",
    "id": "DXHgwjg_7VqD",
    "outputId": "abfb87e8-a0f4-4a22-ad78-78ef6e8691c2"
   },
   "outputs": [
    {
     "data": {
      "text/plain": [
       "[Synset('spider.n.01'), Synset('spider.n.02'), Synset('spider.n.03')]"
      ]
     },
     "execution_count": 5,
     "metadata": {
      "tags": []
     },
     "output_type": "execute_result"
    }
   ],
   "source": [
    "# Se obtienen los sentidos de \"spider\"\n",
    "\n",
    "wn.synsets('spider')"
   ]
  },
  {
   "cell_type": "code",
   "execution_count": 0,
   "metadata": {
    "colab": {
     "base_uri": "https://localhost:8080/",
     "height": 34
    },
    "colab_type": "code",
    "id": "udxViEBy7VqI",
    "outputId": "02c7b904-9466-4e40-998c-45664f615b14"
   },
   "outputs": [
    {
     "data": {
      "text/plain": [
       "[Synset('cockroach.n.01')]"
      ]
     },
     "execution_count": 6,
     "metadata": {
      "tags": []
     },
     "output_type": "execute_result"
    }
   ],
   "source": [
    "# Se obtiene el sentido de \"cockroach\"\n",
    "\n",
    "wn.synsets('cockroach')"
   ]
  },
  {
   "cell_type": "markdown",
   "metadata": {
    "colab_type": "text",
    "id": "hblF9QQs7VqM"
   },
   "source": [
    "## 2. Muestra la definición de cada uno de los sentidos o synsets de las palabras del punto 1."
   ]
  },
  {
   "cell_type": "markdown",
   "metadata": {
    "colab_type": "text",
    "id": "ba3Mtk-w9sry"
   },
   "source": [
    "Ahora se imprime en pantalla la definición de cada sentido de las palabras. "
   ]
  },
  {
   "cell_type": "markdown",
   "metadata": {
    "colab_type": "text",
    "id": "_6zbbG6X7VqO"
   },
   "source": [
    "### Mosquito"
   ]
  },
  {
   "cell_type": "code",
   "execution_count": 0,
   "metadata": {
    "colab": {
     "base_uri": "https://localhost:8080/",
     "height": 34
    },
    "colab_type": "code",
    "id": "3D_-FmN17VqO",
    "outputId": "1041840e-d060-44f7-f4d8-20c04f21313f"
   },
   "outputs": [
    {
     "name": "stdout",
     "output_type": "stream",
     "text": [
      "two-winged insect whose female has a long proboscis to pierce the skin and suck the blood of humans and animals\n"
     ]
    }
   ],
   "source": [
    " # Se muestra en pantalla la definición del sentido de la palabra \"mosquito\"\n",
    "  \n",
    "  print(wn.synset('mosquito.n.01').definition())"
   ]
  },
  {
   "cell_type": "markdown",
   "metadata": {
    "colab_type": "text",
    "id": "JqvWscLO7VqT"
   },
   "source": [
    "### Tsetse"
   ]
  },
  {
   "cell_type": "code",
   "execution_count": 0,
   "metadata": {
    "colab": {
     "base_uri": "https://localhost:8080/",
     "height": 34
    },
    "colab_type": "code",
    "id": "TBfx8Cbz7VqU",
    "outputId": "ec6a9ddb-6ade-43b6-bfbd-d400cf35a1c1"
   },
   "outputs": [
    {
     "name": "stdout",
     "output_type": "stream",
     "text": [
      "bloodsucking African fly; transmits sleeping sickness etc.\n"
     ]
    }
   ],
   "source": [
    "  # Se muestra en pantalla la definición del sentido de la palabra \"tsetse\"\n",
    "  \n",
    "  print(wn.synset('tsetse_fly.n.01').definition())"
   ]
  },
  {
   "cell_type": "markdown",
   "metadata": {
    "colab_type": "text",
    "id": "PNL2684Z7VqY"
   },
   "source": [
    "### Housefly"
   ]
  },
  {
   "cell_type": "code",
   "execution_count": 0,
   "metadata": {
    "colab": {
     "base_uri": "https://localhost:8080/",
     "height": 34
    },
    "colab_type": "code",
    "id": "rHt5Fd1U7VqZ",
    "outputId": "34cad050-dcd3-4914-f5ad-c19538b81117"
   },
   "outputs": [
    {
     "name": "stdout",
     "output_type": "stream",
     "text": [
      "common fly that frequents human habitations and spreads many diseases\n"
     ]
    }
   ],
   "source": [
    " # Se muestra en pantalla la definición del sentido de la palabra \"housefly\"\n",
    "\n",
    "print(wn.synset('housefly.n.01').definition())"
   ]
  },
  {
   "cell_type": "markdown",
   "metadata": {
    "colab_type": "text",
    "id": "uaI8AZdK7Vqe"
   },
   "source": [
    "### Spider"
   ]
  },
  {
   "cell_type": "code",
   "execution_count": 0,
   "metadata": {
    "colab": {
     "base_uri": "https://localhost:8080/",
     "height": 54
    },
    "colab_type": "code",
    "id": "WO1Coav-7Vqf",
    "outputId": "b772576c-f86f-4d4d-9f29-cde9805ecc8b"
   },
   "outputs": [
    {
     "name": "stdout",
     "output_type": "stream",
     "text": [
      "predatory arachnid with eight legs, two poison fangs, two feelers, and usually two silk-spinning organs at the back end of the body; they spin silk to make cocoons for eggs or traps for prey\n"
     ]
    }
   ],
   "source": [
    " # Se muestra en pantalla la definición del sentido 1 de la palabra \"spider\"\n",
    "\n",
    "print(wn.synset('spider.n.01').definition())"
   ]
  },
  {
   "cell_type": "code",
   "execution_count": 0,
   "metadata": {
    "colab": {
     "base_uri": "https://localhost:8080/",
     "height": 54
    },
    "colab_type": "code",
    "id": "2kITGN7z7Vqk",
    "outputId": "83555eec-8071-492c-f426-dd4315489a90"
   },
   "outputs": [
    {
     "name": "stdout",
     "output_type": "stream",
     "text": [
      "a computer program that prowls the internet looking for publicly accessible resources that can be added to a database; the database can then be searched with a search engine\n"
     ]
    }
   ],
   "source": [
    " # Se muestra en pantalla la definición del sentido 2 de la palabra \"spider\"\n",
    "\n",
    "print(wn.synset('spider.n.02').definition())"
   ]
  },
  {
   "cell_type": "code",
   "execution_count": 0,
   "metadata": {
    "colab": {
     "base_uri": "https://localhost:8080/",
     "height": 34
    },
    "colab_type": "code",
    "id": "zyGJawHF7Vqq",
    "outputId": "5a678a62-4d31-482f-f832-092588810f2b"
   },
   "outputs": [
    {
     "name": "stdout",
     "output_type": "stream",
     "text": [
      "a skillet made of cast iron\n"
     ]
    }
   ],
   "source": [
    " # Se muestra en pantalla la definición del sentido 3 de la palabra \"spider\"\n",
    "\n",
    "print(wn.synset('spider.n.03').definition())"
   ]
  },
  {
   "cell_type": "markdown",
   "metadata": {
    "colab_type": "text",
    "id": "pteD6oAp7Vqv"
   },
   "source": [
    "### Cockroach"
   ]
  },
  {
   "cell_type": "code",
   "execution_count": 0,
   "metadata": {
    "colab": {
     "base_uri": "https://localhost:8080/",
     "height": 34
    },
    "colab_type": "code",
    "id": "4TJUXO7O7Vqw",
    "outputId": "409f9a37-6902-47ed-cddf-b8de25567c6a"
   },
   "outputs": [
    {
     "name": "stdout",
     "output_type": "stream",
     "text": [
      "any of numerous chiefly nocturnal insects; some are domestic pests\n"
     ]
    }
   ],
   "source": [
    " # Se muestra en pantalla la definición del sentido de la palabra \"cockroach\"\n",
    "\n",
    "print(wn.synset('cockroach.n.01').definition())"
   ]
  },
  {
   "cell_type": "markdown",
   "metadata": {
    "colab_type": "text",
    "id": "pHvFSu2h7Vq2"
   },
   "source": [
    "## 3. Si alguna de las palabras tuviera más de un posible sentido (synset), deberás seleccionar un único sentido para poder seguir desarrollando la actividad.\n",
    "\n",
    "Para seleccionar ese único sentido intenta aplica un método parecido al algoritmo de Lesk. Es decir, compara la definición de cada sentido de la palabra con múltiples synsets con las definiciones del resto de palabras que tienen un único sentido (synset) y selecciona el sentido que tenga más palabras en común. Explica en el informe si el método que has aplicado crees que proporciona una buena solución o no y por qué."
   ]
  },
  {
   "cell_type": "code",
   "execution_count": 0,
   "metadata": {
    "colab": {
     "base_uri": "https://localhost:8080/",
     "height": 51
    },
    "colab_type": "code",
    "id": "yScLlcwm_oIH",
    "outputId": "180ce33a-8f44-4605-a0ea-5af5ce32630e"
   },
   "outputs": [
    {
     "name": "stdout",
     "output_type": "stream",
     "text": [
      "Synset('spider.n.03')\n",
      "a skillet made of cast iron\n"
     ]
    }
   ],
   "source": [
    "# Se comprueba el resultado utilizando la función del algoritmo de Lesk\n",
    "\n",
    "sent = 'mosquito tsetse housefly spider cockroach'\n",
    "ambiguous = 'spider'\n",
    "print(lesk(sent, ambiguous))\n",
    "\n",
    "wn.synset('spider.n.03')\n",
    "print(lesk(sent, ambiguous).definition())"
   ]
  },
  {
   "cell_type": "code",
   "execution_count": 0,
   "metadata": {
    "colab": {},
    "colab_type": "code",
    "collapsed": true,
    "id": "FpP6KkK_GobR"
   },
   "outputs": [],
   "source": [
    "# Se guarda en variables las definiciones de los 3 sentidos de la palabra \"spider\"\n",
    "\n",
    "definition_spider_1 = wn.synset('spider.n.01').definition()\n",
    "definition_spider_2 = wn.synset('spider.n.02').definition()\n",
    "definition_spider_3 = wn.synset('spider.n.03').definition()\n",
    "\n",
    "# Se guarda en variables la definición del sentido de las palabras no ambiguas\n",
    "\n",
    "definition_mosquito = wn.synset('mosquito.n.01').definition()\n",
    "definition_tsetse = wn.synset('tsetse.n.01').definition()\n",
    "definition_housefly = wn.synset('housefly.n.01').definition()\n",
    "definition_cockroach = wn.synset('cockroach.n.01').definition()"
   ]
  },
  {
   "cell_type": "code",
   "execution_count": 0,
   "metadata": {
    "colab": {},
    "colab_type": "code",
    "collapsed": true,
    "id": "0YldKDiEA0CW"
   },
   "outputs": [],
   "source": [
    "# Se crea una función que compara dos definiciones y da como resultado el número de palabras comunes\n",
    "# entre las dos definiciones\n",
    "\n",
    "def palabras_comunes(definition_1, definition_2):\n",
    "  \n",
    "  s1w = re.findall('\\w+', definition_1.lower())\n",
    "  s2w = re.findall('\\w+', definition_2.lower())\n",
    "  \n",
    "  s1cnt = Counter(s1w)\n",
    "  s2cnt = Counter(s2w)\n",
    "\n",
    "  common = set(s1w).intersection(s2w) \n",
    "\n",
    "  count_common = sum(s1cnt[wrd] for wrd in common)\n",
    "  \n",
    "  print('Hay %i palabras comunes' % count_common)"
   ]
  },
  {
   "cell_type": "markdown",
   "metadata": {
    "colab_type": "text",
    "id": "eU13C1zMH9jB"
   },
   "source": [
    "### Definición \"spider\" vs Definición \"mosquito\""
   ]
  },
  {
   "cell_type": "code",
   "execution_count": 0,
   "metadata": {
    "colab": {
     "base_uri": "https://localhost:8080/",
     "height": 34
    },
    "colab_type": "code",
    "id": "3206gl34F4wn",
    "outputId": "15ff8960-32ca-4db5-ee8f-1a989a64092e"
   },
   "outputs": [
    {
     "name": "stdout",
     "output_type": "stream",
     "text": [
      "Hay 8 palabras comunes\n"
     ]
    }
   ],
   "source": [
    "# Se compara la definición del sentido 1 de spider con la definición de mosquito\n",
    "\n",
    "palabras_comunes(definition_spider_1, definition_mosquito)"
   ]
  },
  {
   "cell_type": "code",
   "execution_count": 0,
   "metadata": {
    "colab": {
     "base_uri": "https://localhost:8080/",
     "height": 34
    },
    "colab_type": "code",
    "id": "YCqvtVsXMRor",
    "outputId": "1badbc3b-cd39-4c64-8b59-07c9a010997c"
   },
   "outputs": [
    {
     "name": "stdout",
     "output_type": "stream",
     "text": [
      "Hay 6 palabras comunes\n"
     ]
    }
   ],
   "source": [
    "# Se compara la definición del sentido 2 de spider con la definición de mosquito\n",
    "\n",
    "palabras_comunes(definition_spider_2, definition_mosquito)"
   ]
  },
  {
   "cell_type": "code",
   "execution_count": 0,
   "metadata": {
    "colab": {
     "base_uri": "https://localhost:8080/",
     "height": 34
    },
    "colab_type": "code",
    "id": "gv_YzoN5MWlx",
    "outputId": "cd076249-4190-41c2-c111-739013d3015b"
   },
   "outputs": [
    {
     "name": "stdout",
     "output_type": "stream",
     "text": [
      "Hay 2 palabras comunes\n"
     ]
    }
   ],
   "source": [
    "# Se compara la definición del sentido 3 de spider con la definición de mosquito\n",
    "\n",
    "palabras_comunes(definition_spider_3, definition_mosquito)"
   ]
  },
  {
   "cell_type": "markdown",
   "metadata": {
    "colab_type": "text",
    "id": "oiUyU4vWK4oW"
   },
   "source": [
    "### Definición \"spider\" vs Definición \"tsetse\""
   ]
  },
  {
   "cell_type": "code",
   "execution_count": 0,
   "metadata": {
    "colab": {
     "base_uri": "https://localhost:8080/",
     "height": 34
    },
    "colab_type": "code",
    "id": "mGXnsXpoIYP8",
    "outputId": "04bd68c7-5f4b-468a-990c-50b74296e709"
   },
   "outputs": [
    {
     "name": "stdout",
     "output_type": "stream",
     "text": [
      "Hay 0 palabras comunes\n"
     ]
    }
   ],
   "source": [
    "# Se compara la definición del sentido 1 de spider con la definición de tsetse\n",
    "\n",
    "palabras_comunes(definition_spider_1, definition_tsetse)"
   ]
  },
  {
   "cell_type": "code",
   "execution_count": 0,
   "metadata": {
    "colab": {
     "base_uri": "https://localhost:8080/",
     "height": 34
    },
    "colab_type": "code",
    "id": "I8ebGxOvMgx-",
    "outputId": "e95febed-4260-4a53-991c-b978baff844a"
   },
   "outputs": [
    {
     "name": "stdout",
     "output_type": "stream",
     "text": [
      "Hay 0 palabras comunes\n"
     ]
    }
   ],
   "source": [
    "# Se compara la definición del sentido 2 de spider con la definición de tsetse\n",
    "\n",
    "palabras_comunes(definition_spider_2, definition_tsetse)"
   ]
  },
  {
   "cell_type": "code",
   "execution_count": 0,
   "metadata": {
    "colab": {
     "base_uri": "https://localhost:8080/",
     "height": 34
    },
    "colab_type": "code",
    "id": "nEEnvVX_MjM4",
    "outputId": "45722097-99a8-443a-f7d0-1d54a3280cd2"
   },
   "outputs": [
    {
     "name": "stdout",
     "output_type": "stream",
     "text": [
      "Hay 0 palabras comunes\n"
     ]
    }
   ],
   "source": [
    "# Se compara la definición del sentido 3 de spider con la definición de tsetse\n",
    "\n",
    "palabras_comunes(definition_spider_3, definition_tsetse)"
   ]
  },
  {
   "cell_type": "markdown",
   "metadata": {
    "colab_type": "text",
    "id": "To32A6ctLMYn"
   },
   "source": [
    "### Definición \"spider\" vs Definición \"housefly\""
   ]
  },
  {
   "cell_type": "code",
   "execution_count": 0,
   "metadata": {
    "colab": {
     "base_uri": "https://localhost:8080/",
     "height": 34
    },
    "colab_type": "code",
    "id": "Ur1ThAt0LuJN",
    "outputId": "b50bba67-0f18-4167-ef1a-6eda5576dc21"
   },
   "outputs": [
    {
     "name": "stdout",
     "output_type": "stream",
     "text": [
      "Hay 1 palabras comunes\n"
     ]
    }
   ],
   "source": [
    "# Se compara la definición del sentido 1 de spider con la definición de housefly\n",
    "\n",
    "palabras_comunes(definition_spider_1, definition_housefly)"
   ]
  },
  {
   "cell_type": "code",
   "execution_count": 0,
   "metadata": {
    "colab": {
     "base_uri": "https://localhost:8080/",
     "height": 34
    },
    "colab_type": "code",
    "id": "wQTTp1yWMvmc",
    "outputId": "a6af316b-4aa7-41f6-8735-6afb76ff4bac"
   },
   "outputs": [
    {
     "name": "stdout",
     "output_type": "stream",
     "text": [
      "Hay 2 palabras comunes\n"
     ]
    }
   ],
   "source": [
    "# Se compara la definición del sentido 2 de spider con la definición de housefly\n",
    "\n",
    "palabras_comunes(definition_spider_2, definition_housefly)"
   ]
  },
  {
   "cell_type": "code",
   "execution_count": 0,
   "metadata": {
    "colab": {
     "base_uri": "https://localhost:8080/",
     "height": 34
    },
    "colab_type": "code",
    "id": "IU1T24BjMvtd",
    "outputId": "1c850d7b-1930-4290-c1de-fddea40bf1b9"
   },
   "outputs": [
    {
     "name": "stdout",
     "output_type": "stream",
     "text": [
      "Hay 0 palabras comunes\n"
     ]
    }
   ],
   "source": [
    "# Se compara la definición del sentido 3 de spider con la definición de housefly\n",
    "\n",
    "palabras_comunes(definition_spider_3, definition_housefly)"
   ]
  },
  {
   "cell_type": "markdown",
   "metadata": {
    "colab_type": "text",
    "id": "b_4bg7owLXV4"
   },
   "source": [
    "### Definición \"spider\" vs Definición \"cockroach\""
   ]
  },
  {
   "cell_type": "code",
   "execution_count": 0,
   "metadata": {
    "colab": {
     "base_uri": "https://localhost:8080/",
     "height": 34
    },
    "colab_type": "code",
    "id": "pESznCWML8oL",
    "outputId": "aaa4e000-71fd-4b43-d691-fc84f58a9c83"
   },
   "outputs": [
    {
     "name": "stdout",
     "output_type": "stream",
     "text": [
      "Hay 1 palabras comunes\n"
     ]
    }
   ],
   "source": [
    "# Se compara la definición del sentido 1 de spider con la definición de cockroach\n",
    "\n",
    "palabras_comunes(definition_spider_1, definition_cockroach)"
   ]
  },
  {
   "cell_type": "code",
   "execution_count": 0,
   "metadata": {
    "colab": {
     "base_uri": "https://localhost:8080/",
     "height": 34
    },
    "colab_type": "code",
    "id": "nWDqqJ9KM18N",
    "outputId": "732e5dd1-4d62-4369-a5b0-3e1b216cd36b"
   },
   "outputs": [
    {
     "name": "stdout",
     "output_type": "stream",
     "text": [
      "Hay 0 palabras comunes\n"
     ]
    }
   ],
   "source": [
    "# Se compara la definición del sentido 2 de spider con la definición de cockroach\n",
    "\n",
    "palabras_comunes(definition_spider_2, definition_cockroach)"
   ]
  },
  {
   "cell_type": "code",
   "execution_count": 0,
   "metadata": {
    "colab": {
     "base_uri": "https://localhost:8080/",
     "height": 34
    },
    "colab_type": "code",
    "id": "n0Jh7AikM2AO",
    "outputId": "4fe99529-0c13-4dbc-9422-9ec7d1a1924e"
   },
   "outputs": [
    {
     "name": "stdout",
     "output_type": "stream",
     "text": [
      "Hay 1 palabras comunes\n"
     ]
    }
   ],
   "source": [
    "# Se compara la definición del sentido 3 de spider con la definición de cockroach\n",
    "\n",
    "palabras_comunes(definition_spider_3, definition_cockroach)"
   ]
  },
  {
   "cell_type": "markdown",
   "metadata": {
    "colab_type": "text",
    "id": "fZeF2raWWzQU"
   },
   "source": [
    "### ¿Qué sentido se elige?, en la palabra spider"
   ]
  },
  {
   "cell_type": "markdown",
   "metadata": {
    "colab_type": "text",
    "id": "9lyKuL6NW6Yx"
   },
   "source": [
    "**Sentido 1 = 8 + 0 + 1 + 1 = 10**\n",
    "\n",
    "Sentido 2 = 6 + 0 + 2 + 0 = 8\n",
    "\n",
    "Sentido 3 = 2 + 0 + 0 + 1 = 3\n",
    "\n",
    "Por lo tanto se elige el sentido 1 de la palabra spider, que tiene mayor coincidencia de palabras en las definiciones."
   ]
  },
  {
   "cell_type": "code",
   "execution_count": 0,
   "metadata": {
    "colab": {
     "base_uri": "https://localhost:8080/",
     "height": 54
    },
    "colab_type": "code",
    "id": "fHA1M3EmX5Ah",
    "outputId": "e526f2da-b988-4600-8ed1-b3c1bd0eb4a7"
   },
   "outputs": [
    {
     "name": "stdout",
     "output_type": "stream",
     "text": [
      "predatory arachnid with eight legs, two poison fangs, two feelers, and usually two silk-spinning organs at the back end of the body; they spin silk to make cocoons for eggs or traps for prey\n"
     ]
    }
   ],
   "source": [
    "# Nos quedamos con el sentido 1 de la palabra \"spider\"\n",
    "\n",
    "print(wn.synset('spider.n.01').definition())"
   ]
  },
  {
   "cell_type": "markdown",
   "metadata": {
    "colab_type": "text",
    "id": "ncH0baWt7Vq4"
   },
   "source": [
    "## 4. Ignora el resultado obtenido en el punto 3) y utiliza un método basado en la similitud entre palabras para escoger un único sentido para las palabras que tengan más de un posible sentido (synset). Concretamente utiliza la medida de similitud entre sentidos basada en la longitud del camino para seleccionar el sentido más similar de la palabra que tiene múltiples sentidos con respecto al resto de las palabras. Indica en el informe las decisiones de diseño que hayas tomado para implementar este método de selección."
   ]
  },
  {
   "cell_type": "code",
   "execution_count": 0,
   "metadata": {
    "colab": {},
    "colab_type": "code",
    "collapsed": true,
    "id": "bEteSv7cZWAI"
   },
   "outputs": [],
   "source": [
    "# Se guardan los sentidos de las palabras en variables\n",
    "\n",
    "mosquito = wn.synset('mosquito.n.01')\n",
    "tsetse = wn.synset('tsetse.n.01')\n",
    "housefly = wn.synset('housefly.n.01')\n",
    "cockroach = wn.synset('cockroach.n.01')\n",
    "\n",
    "spider_sense_1 = wn.synset('spider.n.01')\n",
    "spider_sense_2 = wn.synset('spider.n.02')\n",
    "spider_sense_3 = wn.synset('spider.n.03')"
   ]
  },
  {
   "cell_type": "markdown",
   "metadata": {
    "colab_type": "text",
    "id": "reftkjqucumT"
   },
   "source": [
    "Para hallar la similitud entre palabras utilizamos un método que mide la distancia entre dos sentidos en un tesauro en línea como wordnet. Se mide la similitud con la jerarquia de relaciones de hiperonimia/hiponimia"
   ]
  },
  {
   "cell_type": "code",
   "execution_count": 0,
   "metadata": {
    "colab": {
     "base_uri": "https://localhost:8080/",
     "height": 85
    },
    "colab_type": "code",
    "id": "pd1t6iOqaWqD",
    "outputId": "152d1458-cd1d-4c7d-8673-d60133af99ba"
   },
   "outputs": [
    {
     "name": "stdout",
     "output_type": "stream",
     "text": [
      "0.16666666666666666\n",
      "0.14285714285714285\n",
      "0.14285714285714285\n",
      "0.16666666666666666\n"
     ]
    }
   ],
   "source": [
    "# Se halla la similitud de los sentidos con el primer sentido de la palabra ambigua spider\n",
    "\n",
    "print(spider_sense_1.path_similarity(mosquito))\n",
    "print(spider_sense_1.path_similarity(tsetse))\n",
    "print(spider_sense_1.path_similarity(housefly))\n",
    "print(spider_sense_1.path_similarity(cockroach))"
   ]
  },
  {
   "cell_type": "code",
   "execution_count": 0,
   "metadata": {
    "colab": {
     "base_uri": "https://localhost:8080/",
     "height": 85
    },
    "colab_type": "code",
    "id": "OSMsw4jAa8oQ",
    "outputId": "1106f928-c8fe-4e82-ba2c-20dc0ee2d07f"
   },
   "outputs": [
    {
     "name": "stdout",
     "output_type": "stream",
     "text": [
      "0.047619047619047616\n",
      "0.045454545454545456\n",
      "0.045454545454545456\n",
      "0.047619047619047616\n"
     ]
    }
   ],
   "source": [
    "# Se halla la similitud de los sentidos con el segundo sentido de la palabra ambigua spider\n",
    "\n",
    "print(spider_sense_2.path_similarity(mosquito))\n",
    "print(spider_sense_2.path_similarity(tsetse))\n",
    "print(spider_sense_2.path_similarity(housefly))\n",
    "print(spider_sense_2.path_similarity(cockroach))"
   ]
  },
  {
   "cell_type": "code",
   "execution_count": 0,
   "metadata": {
    "colab": {
     "base_uri": "https://localhost:8080/",
     "height": 85
    },
    "colab_type": "code",
    "id": "NKr62M8jbAhG",
    "outputId": "9b1eee87-5eb4-49f9-f704-daf75de39d9d"
   },
   "outputs": [
    {
     "name": "stdout",
     "output_type": "stream",
     "text": [
      "0.05555555555555555\n",
      "0.05263157894736842\n",
      "0.05263157894736842\n",
      "0.05555555555555555\n"
     ]
    }
   ],
   "source": [
    "# Se halla la similitud de los sentidos con el tercer sentido de la palabra ambigua spider\n",
    "\n",
    "print(spider_sense_3.path_similarity(mosquito))\n",
    "print(spider_sense_3.path_similarity(tsetse))\n",
    "print(spider_sense_3.path_similarity(housefly))\n",
    "print(spider_sense_3.path_similarity(cockroach))"
   ]
  },
  {
   "cell_type": "markdown",
   "metadata": {
    "colab_type": "text",
    "id": "SL-LTp_ysN8a"
   },
   "source": [
    "Vemos que el sentido 1 de la palabra spider tiene valores de similitud más altos en la similitud de camino con las otras palabras"
   ]
  },
  {
   "cell_type": "markdown",
   "metadata": {
    "colab_type": "text",
    "id": "DNS1zpEg7Vq6"
   },
   "source": [
    "## 5. Una vez hayas seleccionado un único sentido para cada una de las palabras, para cada uno de esos cinco synsets muestra las palabras que son sinónimos y que conforman el synset, es decir los sinónimos que comparten un mismo significado."
   ]
  },
  {
   "cell_type": "markdown",
   "metadata": {
    "colab_type": "text",
    "id": "GjJxFArevarR"
   },
   "source": [
    "El tesauro de wordnet agrupa los términos como un set de sinónimos, de ahí su nombre synsets. "
   ]
  },
  {
   "cell_type": "code",
   "execution_count": 0,
   "metadata": {
    "colab": {
     "base_uri": "https://localhost:8080/",
     "height": 34
    },
    "colab_type": "code",
    "id": "csszNup4NfVV",
    "outputId": "30b292db-959e-444f-e7af-fc6ef4447466"
   },
   "outputs": [
    {
     "data": {
      "text/plain": [
       "[Synset('mosquito.n.01')]"
      ]
     },
     "execution_count": 34,
     "metadata": {
      "tags": []
     },
     "output_type": "execute_result"
    }
   ],
   "source": [
    "# Se muestran los sinónimos de mosquito.\n",
    "# En este caso no comparte un mismo significado con otra palabra\n",
    "\n",
    "wn.synsets('mosquito') "
   ]
  },
  {
   "cell_type": "code",
   "execution_count": 0,
   "metadata": {
    "colab": {
     "base_uri": "https://localhost:8080/",
     "height": 34
    },
    "colab_type": "code",
    "id": "KKGmvXG6N2hV",
    "outputId": "0e4b753b-f87f-45da-91b4-aa1ce4851969"
   },
   "outputs": [
    {
     "data": {
      "text/plain": [
       "[Synset('tsetse_fly.n.01')]"
      ]
     },
     "execution_count": 35,
     "metadata": {
      "tags": []
     },
     "output_type": "execute_result"
    }
   ],
   "source": [
    "# Se muestran los sinónimos de tsetse.\n",
    "# En este caso no comparte un mismo significado con otra palabra\n",
    "\n",
    "wn.synsets('tsetse') "
   ]
  },
  {
   "cell_type": "code",
   "execution_count": 0,
   "metadata": {
    "colab": {
     "base_uri": "https://localhost:8080/",
     "height": 34
    },
    "colab_type": "code",
    "id": "L1WxKtJJN2qY",
    "outputId": "acbe3c74-a354-460c-8c66-38b4e807206d"
   },
   "outputs": [
    {
     "data": {
      "text/plain": [
       "[Synset('housefly.n.01')]"
      ]
     },
     "execution_count": 36,
     "metadata": {
      "tags": []
     },
     "output_type": "execute_result"
    }
   ],
   "source": [
    "# Se muestran los sinónimos de housefly.\n",
    "# En este caso no comparte un mismo significado con otra palabra\n",
    "\n",
    "wn.synsets('housefly') "
   ]
  },
  {
   "cell_type": "code",
   "execution_count": 0,
   "metadata": {
    "colab": {
     "base_uri": "https://localhost:8080/",
     "height": 34
    },
    "colab_type": "code",
    "id": "KItVqokON2zK",
    "outputId": "e014432e-6f3d-4df3-e180-9ce21b936225"
   },
   "outputs": [
    {
     "data": {
      "text/plain": [
       "[Synset('spider.n.01'), Synset('spider.n.02'), Synset('spider.n.03')]"
      ]
     },
     "execution_count": 37,
     "metadata": {
      "tags": []
     },
     "output_type": "execute_result"
    }
   ],
   "source": [
    "# Se muestran los sinónimos de spider.\n",
    "# La palabra spider tiene tres sinónimos.\n",
    "\n",
    "wn.synsets('spider') "
   ]
  },
  {
   "cell_type": "code",
   "execution_count": 0,
   "metadata": {
    "colab": {
     "base_uri": "https://localhost:8080/",
     "height": 34
    },
    "colab_type": "code",
    "id": "h2YRpRBRN28i",
    "outputId": "d2aba3c5-08e3-4742-e382-49e840436fb9"
   },
   "outputs": [
    {
     "data": {
      "text/plain": [
       "[Synset('cockroach.n.01')]"
      ]
     },
     "execution_count": 83,
     "metadata": {
      "tags": []
     },
     "output_type": "execute_result"
    }
   ],
   "source": [
    "# Se muestran los sinónimos de cockroach.\n",
    "# En este caso no comparte un mismo significado con otra palabra\n",
    "\n",
    "wn.synsets('cockroach') "
   ]
  },
  {
   "cell_type": "markdown",
   "metadata": {
    "colab_type": "text",
    "id": "3x0IRx0y7Vq6"
   },
   "source": [
    "## 6. Para cada uno de los cinco synsets obtén sus hiperónimos, de hecho, muestra toda la jerarquía de hiperónimos no solo el hiperónimo directo."
   ]
  },
  {
   "cell_type": "markdown",
   "metadata": {
    "colab_type": "text",
    "id": "09Mqrv8XRkDZ"
   },
   "source": [
    "### Hiperónimos de mosquito"
   ]
  },
  {
   "cell_type": "code",
   "execution_count": 0,
   "metadata": {
    "colab": {
     "base_uri": "https://localhost:8080/",
     "height": 204
    },
    "colab_type": "code",
    "id": "hsBDAFmgMkho",
    "outputId": "e370a6c6-af00-48df-bd58-491565a32902"
   },
   "outputs": [
    {
     "data": {
      "text/plain": [
       "[Synset('dipterous_insect.n.01'),\n",
       " Synset('insect.n.01'),\n",
       " Synset('arthropod.n.01'),\n",
       " Synset('invertebrate.n.01'),\n",
       " Synset('animal.n.01'),\n",
       " Synset('organism.n.01'),\n",
       " Synset('living_thing.n.01'),\n",
       " Synset('whole.n.02'),\n",
       " Synset('object.n.01'),\n",
       " Synset('physical_entity.n.01'),\n",
       " Synset('entity.n.01')]"
      ]
     },
     "execution_count": 39,
     "metadata": {
      "tags": []
     },
     "output_type": "execute_result"
    }
   ],
   "source": [
    "hyper = lambda s: s.hypernyms()\n",
    "\n",
    "# Se muestra toda la jerarquía de hiperónimos de la palabra mosquito\n",
    "\n",
    "list(mosquito.closure(hyper))"
   ]
  },
  {
   "cell_type": "markdown",
   "metadata": {
    "colab_type": "text",
    "id": "k0hAgHuNRsYh"
   },
   "source": [
    "### Hiperónimos de tsetse"
   ]
  },
  {
   "cell_type": "code",
   "execution_count": 0,
   "metadata": {
    "colab": {
     "base_uri": "https://localhost:8080/",
     "height": 221
    },
    "colab_type": "code",
    "id": "nM1s14_7SAq3",
    "outputId": "2ab92dd2-397f-4c2f-eddd-db639b9aa74d"
   },
   "outputs": [
    {
     "data": {
      "text/plain": [
       "[Synset('fly.n.01'),\n",
       " Synset('dipterous_insect.n.01'),\n",
       " Synset('insect.n.01'),\n",
       " Synset('arthropod.n.01'),\n",
       " Synset('invertebrate.n.01'),\n",
       " Synset('animal.n.01'),\n",
       " Synset('organism.n.01'),\n",
       " Synset('living_thing.n.01'),\n",
       " Synset('whole.n.02'),\n",
       " Synset('object.n.01'),\n",
       " Synset('physical_entity.n.01'),\n",
       " Synset('entity.n.01')]"
      ]
     },
     "execution_count": 40,
     "metadata": {
      "tags": []
     },
     "output_type": "execute_result"
    }
   ],
   "source": [
    "# Se muestra toda la jerarquía de hiperónimos de la palabra tsetse\n",
    "\n",
    "list(tsetse.closure(hyper))"
   ]
  },
  {
   "cell_type": "markdown",
   "metadata": {
    "colab_type": "text",
    "id": "KgjpSgSNRwzD"
   },
   "source": [
    "### Hiperónimos de housefly"
   ]
  },
  {
   "cell_type": "code",
   "execution_count": 0,
   "metadata": {
    "colab": {
     "base_uri": "https://localhost:8080/",
     "height": 221
    },
    "colab_type": "code",
    "id": "7WzDadBlSEMe",
    "outputId": "f9eac60f-d935-40be-b2b7-89fb91344fc3"
   },
   "outputs": [
    {
     "data": {
      "text/plain": [
       "[Synset('fly.n.01'),\n",
       " Synset('dipterous_insect.n.01'),\n",
       " Synset('insect.n.01'),\n",
       " Synset('arthropod.n.01'),\n",
       " Synset('invertebrate.n.01'),\n",
       " Synset('animal.n.01'),\n",
       " Synset('organism.n.01'),\n",
       " Synset('living_thing.n.01'),\n",
       " Synset('whole.n.02'),\n",
       " Synset('object.n.01'),\n",
       " Synset('physical_entity.n.01'),\n",
       " Synset('entity.n.01')]"
      ]
     },
     "execution_count": 41,
     "metadata": {
      "tags": []
     },
     "output_type": "execute_result"
    }
   ],
   "source": [
    "# Se muestra toda la jerarquía de hiperónimos de la palabra housefly\n",
    "\n",
    "list(housefly.closure(hyper))"
   ]
  },
  {
   "cell_type": "markdown",
   "metadata": {
    "colab_type": "text",
    "id": "Xj6pYNVQRxVu"
   },
   "source": [
    "### Hiperónimos de spider"
   ]
  },
  {
   "cell_type": "code",
   "execution_count": 0,
   "metadata": {
    "colab": {
     "base_uri": "https://localhost:8080/",
     "height": 187
    },
    "colab_type": "code",
    "id": "bpRjYbNcSHPz",
    "outputId": "d6b86b3b-5b71-474c-d46f-f963438314e9"
   },
   "outputs": [
    {
     "data": {
      "text/plain": [
       "[Synset('arachnid.n.01'),\n",
       " Synset('arthropod.n.01'),\n",
       " Synset('invertebrate.n.01'),\n",
       " Synset('animal.n.01'),\n",
       " Synset('organism.n.01'),\n",
       " Synset('living_thing.n.01'),\n",
       " Synset('whole.n.02'),\n",
       " Synset('object.n.01'),\n",
       " Synset('physical_entity.n.01'),\n",
       " Synset('entity.n.01')]"
      ]
     },
     "execution_count": 42,
     "metadata": {
      "tags": []
     },
     "output_type": "execute_result"
    }
   ],
   "source": [
    "# Se muestra toda la jerarquía de hiperónimos de la palabra spider\n",
    "\n",
    "list(spider_sense_1.closure(hyper))"
   ]
  },
  {
   "cell_type": "markdown",
   "metadata": {
    "colab_type": "text",
    "id": "INIccbo8Rx31"
   },
   "source": [
    "### Hiperónimos de cockroach"
   ]
  },
  {
   "cell_type": "code",
   "execution_count": 0,
   "metadata": {
    "colab": {
     "base_uri": "https://localhost:8080/",
     "height": 204
    },
    "colab_type": "code",
    "id": "wqBKEcI9SKLa",
    "outputId": "ac1c8804-1b2e-4a1b-a898-d212ecbb49d0"
   },
   "outputs": [
    {
     "data": {
      "text/plain": [
       "[Synset('dictyopterous_insect.n.01'),\n",
       " Synset('insect.n.01'),\n",
       " Synset('arthropod.n.01'),\n",
       " Synset('invertebrate.n.01'),\n",
       " Synset('animal.n.01'),\n",
       " Synset('organism.n.01'),\n",
       " Synset('living_thing.n.01'),\n",
       " Synset('whole.n.02'),\n",
       " Synset('object.n.01'),\n",
       " Synset('physical_entity.n.01'),\n",
       " Synset('entity.n.01')]"
      ]
     },
     "execution_count": 43,
     "metadata": {
      "tags": []
     },
     "output_type": "execute_result"
    }
   ],
   "source": [
    "# Se muestra toda la jerarquía de hiperónimos de la palabra cockroach\n",
    "\n",
    "list(cockroach.closure(hyper))"
   ]
  },
  {
   "cell_type": "markdown",
   "metadata": {
    "colab_type": "text",
    "id": "GkXBi2fn7Vq7"
   },
   "source": [
    "## 7. Dibuja un tesauro donde se muestre la jerarquía de los cinco synsets y sus hiperónimos desde el nivel superior de la jerarquía hasta llegar al nivel donde aparezcan los sentidos de las cinco palabras analizadas."
   ]
  },
  {
   "cell_type": "code",
   "execution_count": 0,
   "metadata": {
    "colab": {
     "base_uri": "https://localhost:8080/",
     "height": 204
    },
    "colab_type": "code",
    "id": "AeiCDHxmY0Ai",
    "outputId": "d1d8d1d6-3108-4c9c-e3a1-22e8664f6566"
   },
   "outputs": [
    {
     "data": {
      "text/plain": [
       "[Synset('dipterous_insect.n.01'),\n",
       " Synset('insect.n.01'),\n",
       " Synset('arthropod.n.01'),\n",
       " Synset('invertebrate.n.01'),\n",
       " Synset('animal.n.01'),\n",
       " Synset('organism.n.01'),\n",
       " Synset('living_thing.n.01'),\n",
       " Synset('whole.n.02'),\n",
       " Synset('object.n.01'),\n",
       " Synset('physical_entity.n.01'),\n",
       " Synset('entity.n.01')]"
      ]
     },
     "execution_count": 44,
     "metadata": {
      "tags": []
     },
     "output_type": "execute_result"
    }
   ],
   "source": [
    "# El tesauro de dibuja a partir de esta jerarquía. Dibujo en el INFORME.\n",
    "\n",
    "list(mosquito.closure(hyper))"
   ]
  },
  {
   "cell_type": "code",
   "execution_count": 0,
   "metadata": {
    "colab": {
     "base_uri": "https://localhost:8080/",
     "height": 221
    },
    "colab_type": "code",
    "id": "_w_8BKnCNlZx",
    "outputId": "71325324-c1a0-459a-e879-34863fb6adc2"
   },
   "outputs": [
    {
     "data": {
      "text/plain": [
       "[Synset('fly.n.01'),\n",
       " Synset('dipterous_insect.n.01'),\n",
       " Synset('insect.n.01'),\n",
       " Synset('arthropod.n.01'),\n",
       " Synset('invertebrate.n.01'),\n",
       " Synset('animal.n.01'),\n",
       " Synset('organism.n.01'),\n",
       " Synset('living_thing.n.01'),\n",
       " Synset('whole.n.02'),\n",
       " Synset('object.n.01'),\n",
       " Synset('physical_entity.n.01'),\n",
       " Synset('entity.n.01')]"
      ]
     },
     "execution_count": 45,
     "metadata": {
      "tags": []
     },
     "output_type": "execute_result"
    }
   ],
   "source": [
    "# El tesauro de dibuja a partir de esta jerarquía. Dibujo en el INFORME.\n",
    "\n",
    "list(tsetse.closure(hyper))"
   ]
  },
  {
   "cell_type": "code",
   "execution_count": 0,
   "metadata": {
    "colab": {
     "base_uri": "https://localhost:8080/",
     "height": 221
    },
    "colab_type": "code",
    "id": "Ns_Qyl4COX8x",
    "outputId": "d52979d1-d5b7-412d-a5a3-5bb305829c13"
   },
   "outputs": [
    {
     "data": {
      "text/plain": [
       "[Synset('fly.n.01'),\n",
       " Synset('dipterous_insect.n.01'),\n",
       " Synset('insect.n.01'),\n",
       " Synset('arthropod.n.01'),\n",
       " Synset('invertebrate.n.01'),\n",
       " Synset('animal.n.01'),\n",
       " Synset('organism.n.01'),\n",
       " Synset('living_thing.n.01'),\n",
       " Synset('whole.n.02'),\n",
       " Synset('object.n.01'),\n",
       " Synset('physical_entity.n.01'),\n",
       " Synset('entity.n.01')]"
      ]
     },
     "execution_count": 46,
     "metadata": {
      "tags": []
     },
     "output_type": "execute_result"
    }
   ],
   "source": [
    "# El tesauro de dibuja a partir de esta jerarquía. Dibujo en el INFORME.\n",
    "\n",
    "list(housefly.closure(hyper))"
   ]
  },
  {
   "cell_type": "code",
   "execution_count": 0,
   "metadata": {
    "colab": {
     "base_uri": "https://localhost:8080/",
     "height": 187
    },
    "colab_type": "code",
    "id": "htyw8i6XO1Cc",
    "outputId": "bedde666-4ab9-4f56-fc57-2b20b5cbbcef"
   },
   "outputs": [
    {
     "data": {
      "text/plain": [
       "[Synset('arachnid.n.01'),\n",
       " Synset('arthropod.n.01'),\n",
       " Synset('invertebrate.n.01'),\n",
       " Synset('animal.n.01'),\n",
       " Synset('organism.n.01'),\n",
       " Synset('living_thing.n.01'),\n",
       " Synset('whole.n.02'),\n",
       " Synset('object.n.01'),\n",
       " Synset('physical_entity.n.01'),\n",
       " Synset('entity.n.01')]"
      ]
     },
     "execution_count": 47,
     "metadata": {
      "tags": []
     },
     "output_type": "execute_result"
    }
   ],
   "source": [
    "# El tesauro de dibuja a partir de esta jerarquía. Dibujo en el INFORME.\n",
    "\n",
    "list(spider_sense_1.closure(hyper))"
   ]
  },
  {
   "cell_type": "code",
   "execution_count": 0,
   "metadata": {
    "colab": {
     "base_uri": "https://localhost:8080/",
     "height": 204
    },
    "colab_type": "code",
    "id": "3g-vzxUmPbeV",
    "outputId": "cefd2ed1-a62c-4d6b-f3bc-6a54e369570c"
   },
   "outputs": [
    {
     "data": {
      "text/plain": [
       "[Synset('dictyopterous_insect.n.01'),\n",
       " Synset('insect.n.01'),\n",
       " Synset('arthropod.n.01'),\n",
       " Synset('invertebrate.n.01'),\n",
       " Synset('animal.n.01'),\n",
       " Synset('organism.n.01'),\n",
       " Synset('living_thing.n.01'),\n",
       " Synset('whole.n.02'),\n",
       " Synset('object.n.01'),\n",
       " Synset('physical_entity.n.01'),\n",
       " Synset('entity.n.01')]"
      ]
     },
     "execution_count": 48,
     "metadata": {
      "tags": []
     },
     "output_type": "execute_result"
    }
   ],
   "source": [
    "# El tesauro de dibuja a partir de esta jerarquía. Dibujo en el INFORME.\n",
    "\n",
    "list(cockroach.closure(hyper))"
   ]
  },
  {
   "cell_type": "markdown",
   "metadata": {
    "colab_type": "text",
    "id": "Pg4Q1Yo07Vq8"
   },
   "source": [
    "## 8. Calcula el ancestro común mas bajo para cada posible par de synsets (considerando los 5 synsets seleccionados anteriormente). Comenta en el informe que significa esta medida y cómo se observa en el tesauro que has dibujado en el punto 7."
   ]
  },
  {
   "cell_type": "markdown",
   "metadata": {
    "colab_type": "text",
    "id": "J1x6vy81MgJv"
   },
   "source": [
    "El ancestro común más bajo de dos conceptos (lowest common subsumer, LCS) es el nodo más bajo en la jerarquía que tiene como descendientes a los conceptos 𝑐1 y 𝑐2. Existen diferentes medidas de similitud para hallar este valor. En este laboratorio hemos usado la medida Wu-Palmer Similarity, que se implementa en Python a partir de la función synset1.wup_similarity(synset2). "
   ]
  },
  {
   "cell_type": "markdown",
   "metadata": {
    "colab_type": "text",
    "id": "gEbkXnYVYnOF"
   },
   "source": [
    "### mosquito - tsetse"
   ]
  },
  {
   "cell_type": "code",
   "execution_count": 0,
   "metadata": {
    "colab": {
     "base_uri": "https://localhost:8080/",
     "height": 34
    },
    "colab_type": "code",
    "id": "YRQ1S77nXq3a",
    "outputId": "72801c41-dbe4-41e1-c62d-fa4a1a095cf4"
   },
   "outputs": [
    {
     "data": {
      "text/plain": [
       "0.88"
      ]
     },
     "execution_count": 53,
     "metadata": {
      "tags": []
     },
     "output_type": "execute_result"
    }
   ],
   "source": [
    "wn.wup_similarity(mosquito, tsetse)"
   ]
  },
  {
   "cell_type": "markdown",
   "metadata": {
    "colab_type": "text",
    "id": "WLCdQl-VYssi"
   },
   "source": [
    "### mosquito - housefly"
   ]
  },
  {
   "cell_type": "code",
   "execution_count": 0,
   "metadata": {
    "colab": {
     "base_uri": "https://localhost:8080/",
     "height": 34
    },
    "colab_type": "code",
    "id": "vNqooONNZjHC",
    "outputId": "a3114bce-fc72-4048-cf81-398c6855424d"
   },
   "outputs": [
    {
     "data": {
      "text/plain": [
       "0.88"
      ]
     },
     "execution_count": 54,
     "metadata": {
      "tags": []
     },
     "output_type": "execute_result"
    }
   ],
   "source": [
    "wn.wup_similarity(mosquito, housefly)"
   ]
  },
  {
   "cell_type": "markdown",
   "metadata": {
    "colab_type": "text",
    "id": "azJ8z_byYzQc"
   },
   "source": [
    "### mosquito - spider"
   ]
  },
  {
   "cell_type": "code",
   "execution_count": 0,
   "metadata": {
    "colab": {
     "base_uri": "https://localhost:8080/",
     "height": 34
    },
    "colab_type": "code",
    "id": "Id0hDd5dZnhR",
    "outputId": "ab442c45-453d-4518-9637-2da63b956555"
   },
   "outputs": [
    {
     "data": {
      "text/plain": [
       "0.782608695652174"
      ]
     },
     "execution_count": 55,
     "metadata": {
      "tags": []
     },
     "output_type": "execute_result"
    }
   ],
   "source": [
    "wn.wup_similarity(mosquito, spider_sense_1)"
   ]
  },
  {
   "cell_type": "markdown",
   "metadata": {
    "colab_type": "text",
    "id": "zJnKFaZ9Y3P0"
   },
   "source": [
    "### mosquito - cockroach"
   ]
  },
  {
   "cell_type": "code",
   "execution_count": 0,
   "metadata": {
    "colab": {
     "base_uri": "https://localhost:8080/",
     "height": 34
    },
    "colab_type": "code",
    "id": "LL_RZr_5ZrDA",
    "outputId": "47fa356b-ed0a-4c5c-bc62-6246fc739f2b"
   },
   "outputs": [
    {
     "data": {
      "text/plain": [
       "0.8333333333333334"
      ]
     },
     "execution_count": 56,
     "metadata": {
      "tags": []
     },
     "output_type": "execute_result"
    }
   ],
   "source": [
    "wn.wup_similarity(mosquito, cockroach)"
   ]
  },
  {
   "cell_type": "markdown",
   "metadata": {
    "colab_type": "text",
    "id": "8VD0gAPLY8Y1"
   },
   "source": [
    "### tsetse - housefly"
   ]
  },
  {
   "cell_type": "code",
   "execution_count": 0,
   "metadata": {
    "colab": {
     "base_uri": "https://localhost:8080/",
     "height": 34
    },
    "colab_type": "code",
    "id": "WBms-QbrZtps",
    "outputId": "0a11bb32-e34c-4a7c-fd18-86ad58f645c1"
   },
   "outputs": [
    {
     "data": {
      "text/plain": [
       "0.9230769230769231"
      ]
     },
     "execution_count": 57,
     "metadata": {
      "tags": []
     },
     "output_type": "execute_result"
    }
   ],
   "source": [
    "wn.wup_similarity(tsetse, housefly)"
   ]
  },
  {
   "cell_type": "markdown",
   "metadata": {
    "colab_type": "text",
    "id": "oNBFRlA2ZB11"
   },
   "source": [
    "### tsetse - spider"
   ]
  },
  {
   "cell_type": "code",
   "execution_count": 0,
   "metadata": {
    "colab": {
     "base_uri": "https://localhost:8080/",
     "height": 34
    },
    "colab_type": "code",
    "id": "Zhr3M_R3Zxjx",
    "outputId": "bb4400c6-dca1-45eb-983e-b78dee72e580"
   },
   "outputs": [
    {
     "data": {
      "text/plain": [
       "0.75"
      ]
     },
     "execution_count": 58,
     "metadata": {
      "tags": []
     },
     "output_type": "execute_result"
    }
   ],
   "source": [
    "wn.wup_similarity(tsetse, spider_sense_1)"
   ]
  },
  {
   "cell_type": "markdown",
   "metadata": {
    "colab_type": "text",
    "id": "5Hp4TBN7ZFtL"
   },
   "source": [
    "### tsetse - cockroach"
   ]
  },
  {
   "cell_type": "code",
   "execution_count": 0,
   "metadata": {
    "colab": {
     "base_uri": "https://localhost:8080/",
     "height": 34
    },
    "colab_type": "code",
    "id": "iLEECF_YZ1at",
    "outputId": "1d6a56ae-2cde-4a7d-c89e-2f1c077d1475"
   },
   "outputs": [
    {
     "data": {
      "text/plain": [
       "0.8"
      ]
     },
     "execution_count": 59,
     "metadata": {
      "tags": []
     },
     "output_type": "execute_result"
    }
   ],
   "source": [
    "wn.wup_similarity(tsetse, cockroach)"
   ]
  },
  {
   "cell_type": "markdown",
   "metadata": {
    "colab_type": "text",
    "id": "Jb27wjiCZMcy"
   },
   "source": [
    "### housefly - spider"
   ]
  },
  {
   "cell_type": "code",
   "execution_count": 0,
   "metadata": {
    "colab": {
     "base_uri": "https://localhost:8080/",
     "height": 34
    },
    "colab_type": "code",
    "id": "kmkbMpakZ5c9",
    "outputId": "7cb43720-2338-4e72-f477-46a5e8ef8b50"
   },
   "outputs": [
    {
     "data": {
      "text/plain": [
       "0.75"
      ]
     },
     "execution_count": 60,
     "metadata": {
      "tags": []
     },
     "output_type": "execute_result"
    }
   ],
   "source": [
    "wn.wup_similarity(housefly, spider_sense_1)"
   ]
  },
  {
   "cell_type": "markdown",
   "metadata": {
    "colab_type": "text",
    "id": "GJAtg40vZRPi"
   },
   "source": [
    "### housefly - cockroach"
   ]
  },
  {
   "cell_type": "code",
   "execution_count": 0,
   "metadata": {
    "colab": {
     "base_uri": "https://localhost:8080/",
     "height": 34
    },
    "colab_type": "code",
    "id": "CGskQaejZ_SE",
    "outputId": "d4dfef86-9ced-46a6-f922-a60998ddebcd"
   },
   "outputs": [
    {
     "data": {
      "text/plain": [
       "0.8"
      ]
     },
     "execution_count": 61,
     "metadata": {
      "tags": []
     },
     "output_type": "execute_result"
    }
   ],
   "source": [
    "wn.wup_similarity(housefly, cockroach)"
   ]
  },
  {
   "cell_type": "markdown",
   "metadata": {
    "colab_type": "text",
    "id": "I-v3SH8ZZcw1"
   },
   "source": [
    "### spider - cockroach"
   ]
  },
  {
   "cell_type": "code",
   "execution_count": 0,
   "metadata": {
    "colab": {
     "base_uri": "https://localhost:8080/",
     "height": 34
    },
    "colab_type": "code",
    "id": "_XL2e6UCaDmt",
    "outputId": "51453b7c-2da8-4231-fbf4-b8407f14a8d5"
   },
   "outputs": [
    {
     "data": {
      "text/plain": [
       "0.782608695652174"
      ]
     },
     "execution_count": 63,
     "metadata": {
      "tags": []
     },
     "output_type": "execute_result"
    }
   ],
   "source": [
    "wn.wup_similarity(spider_sense_1, cockroach)"
   ]
  },
  {
   "cell_type": "markdown",
   "metadata": {
    "colab_type": "text",
    "id": "g3myEjRA7Vq9"
   },
   "source": [
    "## 9. Calcula la profundidad de cada uno de los cinco synsets. Comenta en el informe que significa esta medida y cómo se observa en el tesauro que has dibujado en el punto 7."
   ]
  },
  {
   "cell_type": "markdown",
   "metadata": {
    "colab_type": "text",
    "id": "PjvO3LmuMn5Z"
   },
   "source": [
    "La profundidad de los synsets es el número de niveles que tienen dentro de la jerarquía del tesauro. En las figuras del punto 7 se observan que si contamos el número de niveles que hay por encima de cada synset hallamos la profundidad."
   ]
  },
  {
   "cell_type": "markdown",
   "metadata": {
    "colab_type": "text",
    "id": "nkaCXTsHoOJe"
   },
   "source": [
    "### máxima profundidad de mosquito"
   ]
  },
  {
   "cell_type": "code",
   "execution_count": 0,
   "metadata": {
    "colab": {
     "base_uri": "https://localhost:8080/",
     "height": 34
    },
    "colab_type": "code",
    "id": "xnx_IoPnljOR",
    "outputId": "9473edbf-525c-49be-bc94-39d68eb04f1d"
   },
   "outputs": [
    {
     "data": {
      "text/plain": [
       "12"
      ]
     },
     "execution_count": 72,
     "metadata": {
      "tags": []
     },
     "output_type": "execute_result"
    }
   ],
   "source": [
    "max(len(hyp_path) for hyp_path in wn.synset('mosquito.n.1').hypernym_paths())"
   ]
  },
  {
   "cell_type": "markdown",
   "metadata": {
    "colab_type": "text",
    "id": "Z_7-QOveob-q"
   },
   "source": [
    "### máxima profundidad de tsetse"
   ]
  },
  {
   "cell_type": "code",
   "execution_count": 0,
   "metadata": {
    "colab": {
     "base_uri": "https://localhost:8080/",
     "height": 34
    },
    "colab_type": "code",
    "id": "SzC2tVCtoukO",
    "outputId": "512bf84c-8133-45fd-da72-827c784d3be4"
   },
   "outputs": [
    {
     "data": {
      "text/plain": [
       "13"
      ]
     },
     "execution_count": 73,
     "metadata": {
      "tags": []
     },
     "output_type": "execute_result"
    }
   ],
   "source": [
    "max(len(hyp_path) for hyp_path in wn.synset('tsetse.n.1').hypernym_paths())"
   ]
  },
  {
   "cell_type": "markdown",
   "metadata": {
    "colab_type": "text",
    "id": "yA40gE0aojPD"
   },
   "source": [
    "### máxima profundidad de housefly"
   ]
  },
  {
   "cell_type": "code",
   "execution_count": 0,
   "metadata": {
    "colab": {
     "base_uri": "https://localhost:8080/",
     "height": 34
    },
    "colab_type": "code",
    "id": "ve-tkAT-ovM5",
    "outputId": "6342adc6-5def-4d72-f4e5-5ae5b2e55626"
   },
   "outputs": [
    {
     "data": {
      "text/plain": [
       "13"
      ]
     },
     "execution_count": 74,
     "metadata": {
      "tags": []
     },
     "output_type": "execute_result"
    }
   ],
   "source": [
    "max(len(hyp_path) for hyp_path in wn.synset('housefly.n.1').hypernym_paths())"
   ]
  },
  {
   "cell_type": "markdown",
   "metadata": {
    "colab_type": "text",
    "id": "qGTRGFgxolf1"
   },
   "source": [
    "### máxima profundidad de spider"
   ]
  },
  {
   "cell_type": "code",
   "execution_count": 0,
   "metadata": {
    "colab": {
     "base_uri": "https://localhost:8080/",
     "height": 34
    },
    "colab_type": "code",
    "id": "uw2jz9BJovn5",
    "outputId": "061ada7f-ba9a-460d-af85-b91e14cc4c53"
   },
   "outputs": [
    {
     "data": {
      "text/plain": [
       "11"
      ]
     },
     "execution_count": 75,
     "metadata": {
      "tags": []
     },
     "output_type": "execute_result"
    }
   ],
   "source": [
    "max(len(hyp_path) for hyp_path in wn.synset('spider.n.1').hypernym_paths())"
   ]
  },
  {
   "cell_type": "markdown",
   "metadata": {
    "colab_type": "text",
    "id": "cEoQ-fuyoqO2"
   },
   "source": [
    "### máxima profundidad de cockroach"
   ]
  },
  {
   "cell_type": "code",
   "execution_count": 0,
   "metadata": {
    "colab": {
     "base_uri": "https://localhost:8080/",
     "height": 34
    },
    "colab_type": "code",
    "id": "CCGYrDT6owOS",
    "outputId": "85677fd1-ef9b-45cd-f9a4-4edd6d374503"
   },
   "outputs": [
    {
     "data": {
      "text/plain": [
       "12"
      ]
     },
     "execution_count": 76,
     "metadata": {
      "tags": []
     },
     "output_type": "execute_result"
    }
   ],
   "source": [
    "max(len(hyp_path) for hyp_path in wn.synset('cockroach.n.1').hypernym_paths())"
   ]
  },
  {
   "cell_type": "markdown",
   "metadata": {
    "colab_type": "text",
    "id": "AQLnlzxJ7Vq-"
   },
   "source": [
    "## 10. Por último, indica que par de palabras de las cinco que has analizado en este laboratorio son las más similares. Relaciona el resultado obtenido con los valores de los ancestros común más bajos calculados en el punto 8) y los valores de las profundidades calculada en el punto 9). Es decir, explica cómo se ha medido la similitud entre palabras."
   ]
  },
  {
   "cell_type": "markdown",
   "metadata": {
    "colab_type": "text",
    "id": "Opb1yCxpMtXS"
   },
   "source": [
    "Hay dos pares de palabras que son las más similares.\n",
    "\n",
    "•\tSpider – tsetse\n",
    "\n",
    "•\tSpider - housefly\n",
    "\n",
    "Su similitud se ha medido mediante el método LCS que mide la similitud basada en la longitud del camino midiendo de manera uniforme cada eslabón. Si observamos en la representación gráfica del tesauro del punto 7, vemos que la profundidad es igual al número de eslabones hasta llegar a la jerarquía más alta ({Entity.n.01}). La similitud de dos palaras está dada por la inversa de esta profundidad. Por este motivo, a menor profundidad hay más similitud de palabras. "
   ]
  },
  {
   "cell_type": "code",
   "execution_count": 0,
   "metadata": {
    "colab": {
     "base_uri": "https://localhost:8080/",
     "height": 34
    },
    "colab_type": "code",
    "id": "YVlhNBFu7Vq_",
    "outputId": "7cb689fd-b860-4504-a0d1-d82f1da60c8b"
   },
   "outputs": [
    {
     "data": {
      "text/plain": [
       "0.75"
      ]
     },
     "execution_count": 78,
     "metadata": {
      "tags": []
     },
     "output_type": "execute_result"
    }
   ],
   "source": [
    "wn.wup_similarity(tsetse, spider_sense_1)"
   ]
  },
  {
   "cell_type": "code",
   "execution_count": 0,
   "metadata": {
    "colab": {
     "base_uri": "https://localhost:8080/",
     "height": 34
    },
    "colab_type": "code",
    "id": "OvPSEulrqgKG",
    "outputId": "f0dd5f2d-ff0d-49ab-abf8-61c6df54d82a"
   },
   "outputs": [
    {
     "data": {
      "text/plain": [
       "0.75"
      ]
     },
     "execution_count": 79,
     "metadata": {
      "tags": []
     },
     "output_type": "execute_result"
    }
   ],
   "source": [
    "wn.wup_similarity(housefly, spider_sense_1)"
   ]
  }
 ],
 "metadata": {
  "colab": {
   "collapsed_sections": [],
   "name": "Implementación de una tarea de procesamiento del lenguaje natural.ipynb",
   "provenance": [],
   "version": "0.3.2"
  },
  "kernelspec": {
   "display_name": "Python 3",
   "language": "python",
   "name": "python3"
  },
  "language_info": {
   "codemirror_mode": {
    "name": "ipython",
    "version": 3
   },
   "file_extension": ".py",
   "mimetype": "text/x-python",
   "name": "python",
   "nbconvert_exporter": "python",
   "pygments_lexer": "ipython3",
   "version": "3.6.6"
  }
 },
 "nbformat": 4,
 "nbformat_minor": 1
}
